{
  "nbformat": 4,
  "nbformat_minor": 0,
  "metadata": {
    "colab": {
      "provenance": []
    },
    "kernelspec": {
      "name": "python3",
      "display_name": "Python 3"
    },
    "language_info": {
      "name": "python"
    }
  },
  "cells": [
    {
      "cell_type": "code",
      "source": [
        "import pandas as pd\n",
        "from sklearn.model_selection import train_test_split\n",
        "from sklearn.linear_model import LinearRegression\n",
        "import matplotlib.pyplot as plt\n",
        "from sklearn.ensemble import RandomForestRegressor\n",
        "from sklearn.metrics import mean_absolute_error, mean_squared_error, r2_score\n",
        "import joblib\n",
        "from sklearn.preprocessing import OneHotEncoder\n",
        "import numpy as np\n",
        "from sklearn.model_selection import RandomizedSearchCV\n",
        "from xgboost import XGBRegressor"
      ],
      "metadata": {
        "id": "36OIZ3cB8bLM"
      },
      "execution_count": 23,
      "outputs": []
    },
    {
      "cell_type": "code",
      "source": [
        "# Load the dataset\n",
        "dataset = pd.read_csv(\"train.csv\")\n",
        "\n",
        "# Add TotalBathrooms feature\n",
        "if 'FullBath' in dataset.columns and 'HalfBath' in dataset.columns:\n",
        "    dataset['TotalBathrooms'] = dataset['FullBath'] + (0.5 * dataset['HalfBath'])\n",
        "else:\n",
        "    raise ValueError(\"Missing 'FullBath' or 'HalfBath' columns in dataset.\")\n",
        "\n",
        "# Select useful numeric and categorical columns\n",
        "num_cols = ['LotArea', 'OverallQual', 'YearBuilt', 'GrLivArea',\n",
        "            'GarageCars', 'TotalBsmtSF', '1stFlrSF', 'TotalBathrooms']  # include TotalBathrooms\n",
        "cat_cols = ['Neighborhood', 'HouseStyle']\n",
        "selected_cols = num_cols + cat_cols + ['SalePrice']\n",
        "\n",
        "# Filter dataset\n",
        "features = dataset[selected_cols]\n",
        "\n",
        "# Separate into X and y\n",
        "X = features.drop(\"SalePrice\", axis=1)\n",
        "y = features[\"SalePrice\"]\n"
      ],
      "metadata": {
        "id": "lxqOFq9k5lqg"
      },
      "execution_count": 24,
      "outputs": []
    },
    {
      "cell_type": "markdown",
      "source": [
        "features_encoded = pd.get_dummies(features, columns=['Neighborhood', 'HouseStyle'], drop_first=True)\n",
        "print(features_encoded.head())"
      ],
      "metadata": {
        "id": "oYkLXuIa3BET"
      }
    },
    {
      "cell_type": "code",
      "source": [
        "print(\"Missing values in each column:\\n\", features.isnull().sum())\n",
        "print(\"\\nShape before encoding:\", X.shape)\n"
      ],
      "metadata": {
        "colab": {
          "base_uri": "https://localhost:8080/"
        },
        "collapsed": true,
        "id": "xavIi0vI0MNn",
        "outputId": "a9616ec7-fad0-4a02-b534-d284aed3735d"
      },
      "execution_count": 25,
      "outputs": [
        {
          "output_type": "stream",
          "name": "stdout",
          "text": [
            "Missing values in each column:\n",
            " LotArea           0\n",
            "OverallQual       0\n",
            "YearBuilt         0\n",
            "GrLivArea         0\n",
            "GarageCars        0\n",
            "TotalBsmtSF       0\n",
            "1stFlrSF          0\n",
            "TotalBathrooms    0\n",
            "Neighborhood      0\n",
            "HouseStyle        0\n",
            "SalePrice         0\n",
            "dtype: int64\n",
            "\n",
            "Shape before encoding: (1460, 10)\n"
          ]
        }
      ]
    },
    {
      "cell_type": "code",
      "source": [
        "print(features.head())"
      ],
      "metadata": {
        "colab": {
          "base_uri": "https://localhost:8080/"
        },
        "collapsed": true,
        "id": "58cqACxq7q-7",
        "outputId": "8ddafa8b-f0f0-4bde-a1fa-769d9e734ab7"
      },
      "execution_count": 26,
      "outputs": [
        {
          "output_type": "stream",
          "name": "stdout",
          "text": [
            "   LotArea  OverallQual  YearBuilt  GrLivArea  GarageCars  TotalBsmtSF  \\\n",
            "0     8450            7       2003       1710           2          856   \n",
            "1     9600            6       1976       1262           2         1262   \n",
            "2    11250            7       2001       1786           2          920   \n",
            "3     9550            7       1915       1717           3          756   \n",
            "4    14260            8       2000       2198           3         1145   \n",
            "\n",
            "   1stFlrSF  TotalBathrooms Neighborhood HouseStyle  SalePrice  \n",
            "0       856             2.5      CollgCr     2Story     208500  \n",
            "1      1262             2.0      Veenker     1Story     181500  \n",
            "2       920             2.5      CollgCr     2Story     223500  \n",
            "3       961             1.0      Crawfor     2Story     140000  \n",
            "4      1145             2.5      NoRidge     2Story     250000  \n"
          ]
        }
      ]
    },
    {
      "cell_type": "code",
      "source": [
        "features_encoded = pd.get_dummies(features, columns=['Neighborhood', 'HouseStyle'], drop_first=True)\n",
        "x = features_encoded.drop('SalePrice', axis=1)\n",
        "y = features_encoded['SalePrice']\n",
        "x_train, x_test, y_train, y_test = train_test_split(\n",
        "    x, y, test_size=0.2, random_state=1\n",
        ")\n"
      ],
      "metadata": {
        "id": "fqN_xp129rk5"
      },
      "execution_count": 27,
      "outputs": []
    },
    {
      "cell_type": "code",
      "source": [
        "# Define the hyperparameter grid\n",
        "param_dist = {\n",
        "    'n_estimators': [100, 150, 200, 250],\n",
        "    'max_depth': [None, 10, 20, 30],\n",
        "    'min_samples_split': [2, 5, 10],\n",
        "    'min_samples_leaf': [1, 2, 4],\n",
        "    'max_features': ['sqrt', 'log2', None]\n",
        "}\n",
        "\n",
        "# Setup the RandomizedSearchCV\n",
        "random_search = RandomizedSearchCV(\n",
        "    estimator=RandomForestRegressor(random_state=1),\n",
        "    param_distributions=param_dist,\n",
        "    n_iter=20,             # Try 20 random combinations\n",
        "    cv=5,                  # 5-fold cross-validation\n",
        "    verbose=2,\n",
        "    n_jobs=-1,             # Use all available cores\n",
        "    scoring='neg_mean_absolute_error',\n",
        "    random_state=1\n",
        ")\n",
        "\n",
        "# Run the search\n",
        "random_search.fit(x_train, y_train)\n",
        "\n",
        "# Get the best model\n",
        "best_rf_model = random_search.best_estimator_\n",
        "\n",
        "print(\"Best Parameters:\", random_search.best_params_)"
      ],
      "metadata": {
        "colab": {
          "base_uri": "https://localhost:8080/"
        },
        "id": "XIo_v_9oO15I",
        "outputId": "8d926795-50ce-439a-c580-8f904e984d8c"
      },
      "execution_count": 28,
      "outputs": [
        {
          "output_type": "stream",
          "name": "stdout",
          "text": [
            "Fitting 5 folds for each of 20 candidates, totalling 100 fits\n",
            "Best Parameters: {'n_estimators': 100, 'min_samples_split': 5, 'min_samples_leaf': 1, 'max_features': 'sqrt', 'max_depth': None}\n"
          ]
        }
      ]
    },
    {
      "cell_type": "code",
      "source": [
        "xgb_model = XGBRegressor(random_state=1)\n",
        "xgb_model.fit(x_train, y_train)\n",
        "xgb_pred = xgb_model.predict(x_test)"
      ],
      "metadata": {
        "id": "eQsdYx4dTIHh"
      },
      "execution_count": 29,
      "outputs": []
    },
    {
      "cell_type": "code",
      "source": [
        "y_pred = best_rf_model.predict(x_test)"
      ],
      "metadata": {
        "collapsed": true,
        "id": "pUsHHrFb_3EO"
      },
      "execution_count": 30,
      "outputs": []
    },
    {
      "cell_type": "code",
      "source": [
        "plt.scatter(y_test, y_pred, alpha=0.6)\n",
        "plt.plot([y_test.min(), y_test.max()], [y_test.min(), y_test.max()], color='red', linestyle='--')  # Ideal line\n",
        "plt.xlabel(\"Actual Sale Price\")\n",
        "plt.ylabel(\"Predicted Sale Price\")\n",
        "plt.title(\"Actual vs Predicted Sale Prices\")\n",
        "plt.show()\n"
      ],
      "metadata": {
        "colab": {
          "base_uri": "https://localhost:8080/",
          "height": 472
        },
        "id": "k2VLHg41BmqU",
        "outputId": "26d517d5-5afc-4255-af7f-51a783b81171",
        "collapsed": true
      },
      "execution_count": 31,
      "outputs": [
        {
          "output_type": "display_data",
          "data": {
            "text/plain": [
              "<Figure size 640x480 with 1 Axes>"
            ],
            "image/png": "[encoded data removed]"
          },
          "metadata": {}
        }
      ]
    },
    {
      "cell_type": "code",
      "source": [
        "mae = mean_absolute_error(y_test, y_pred)\n",
        "mse = mean_squared_error(y_test, y_pred)\n",
        "r2 = r2_score(y_test, y_pred)"
      ],
      "metadata": {
        "id": "wmWUEdK67a1D"
      },
      "execution_count": 32,
      "outputs": []
    },
    {
      "cell_type": "code",
      "source": [
        "# printing the values\n",
        "print(f\"MAE: {mae:.2f}\")\n",
        "print(f\"MSE: {mse:.2f}\")\n",
        "print(f\"R² Score: {r2:.4f}\")"
      ],
      "metadata": {
        "colab": {
          "base_uri": "https://localhost:8080/"
        },
        "id": "ZCePoQPA7krU",
        "outputId": "a1ead708-2b0a-4c44-a902-c71ed15d8b0f"
      },
      "execution_count": 33,
      "outputs": [
        {
          "output_type": "stream",
          "name": "stdout",
          "text": [
            "MAE: 18552.05\n",
            "MSE: 883109903.92\n",
            "R² Score: 0.8762\n"
          ]
        }
      ]
    },
    {
      "cell_type": "code",
      "source": [
        "xgb_mae = mean_absolute_error(y_test, xgb_pred)\n",
        "xgb_mse = mean_squared_error(y_test, xgb_pred)\n",
        "xgb_r2 = r2_score(y_test, xgb_pred)\n",
        "\n",
        "print(\"XGBoost MAE:\", round(xgb_mae, 2))\n",
        "print(\"XGBoost MSE:\", round(xgb_mse, 2))\n",
        "print(\"XGBoost R² Score:\", round(xgb_r2, 4))\n"
      ],
      "metadata": {
        "colab": {
          "base_uri": "https://localhost:8080/"
        },
        "id": "wzqANJCYTdFI",
        "outputId": "21227dcf-7139-4fbc-a79c-eceda5b0392e"
      },
      "execution_count": 34,
      "outputs": [
        {
          "output_type": "stream",
          "name": "stdout",
          "text": [
            "XGBoost MAE: 18822.98\n",
            "XGBoost MSE: 844257280.0\n",
            "XGBoost R² Score: 0.8816\n"
          ]
        }
      ]
    },
    {
      "cell_type": "code",
      "source": [
        "models = ['Random Forest', 'XGBoost']\n",
        "maes = [mae, xgb_mae]\n",
        "r2s = [r2, xgb_r2]\n",
        "\n",
        "for name, m, r in zip(models, maes, r2s):\n",
        "    print(f\"{name}: MAE = {round(m,2)}, R² = {round(r,4)}\")\n"
      ],
      "metadata": {
        "colab": {
          "base_uri": "https://localhost:8080/"
        },
        "id": "72m9ymcPTgVA",
        "outputId": "941aa473-8e83-4e69-edfe-834af2b867ee"
      },
      "execution_count": 35,
      "outputs": [
        {
          "output_type": "stream",
          "name": "stdout",
          "text": [
            "Random Forest: MAE = 18552.05, R² = 0.8762\n",
            "XGBoost: MAE = 18822.98, R² = 0.8816\n"
          ]
        }
      ]
    },
    {
      "cell_type": "code",
      "source": [
        "joblib.dump(best_rf_model, \"random_forest_model.pkl\")\n",
        "joblib.dump(xgb_model, \"xgboost_model.pkl\")\n",
        "\n"
      ],
      "metadata": {
        "colab": {
          "base_uri": "https://localhost:8080/"
        },
        "id": "NUQZ5YFm8oSU",
        "outputId": "27188796-591b-47b5-f3e2-97df6327f412"
      },
      "execution_count": 36,
      "outputs": [
        {
          "output_type": "execute_result",
          "data": {
            "text/plain": [
              "['xgboost_model.pkl']"
            ]
          },
          "metadata": {},
          "execution_count": 36
        }
      ]
    }
  ]
}